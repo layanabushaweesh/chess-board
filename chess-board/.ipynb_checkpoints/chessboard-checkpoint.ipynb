{
 "cells": [
  {
   "cell_type": "code",
   "execution_count": 53,
   "id": "a9bda5e1-8695-4bd8-8c48-bfbc7f2d2c78",
   "metadata": {},
   "outputs": [],
   "source": [
    "\n",
    "import matplotlib.pyplot as plt\n"
   ]
  },
  {
   "cell_type": "code",
   "execution_count": 54,
   "id": "9409cbc7-418f-440f-a28b-4ef5aa71dff6",
   "metadata": {},
   "outputs": [],
   "source": [
    "\n",
    "import numpy as np\n"
   ]
  },
  {
   "cell_type": "code",
   "execution_count": 55,
   "id": "cbdb7729-feaa-4a83-bdc2-ac917490ab10",
   "metadata": {},
   "outputs": [
    {
     "ename": "IndexError",
     "evalue": "index 8 is out of bounds for axis 0 with size 8",
     "output_type": "error",
     "traceback": [
      "\u001b[0;31m---------------------------------------------------------------------------\u001b[0m",
      "\u001b[0;31mIndexError\u001b[0m                                Traceback (most recent call last)",
      "\u001b[0;32m<ipython-input-55-947fb329320f>\u001b[0m in \u001b[0;36m<module>\u001b[0;34m\u001b[0m\n\u001b[1;32m     50\u001b[0m \u001b[0;34m\u001b[0m\u001b[0m\n\u001b[1;32m     51\u001b[0m \u001b[0mchess_board\u001b[0m \u001b[0;34m=\u001b[0m \u001b[0mChessBoard\u001b[0m\u001b[0;34m(\u001b[0m\u001b[0;34m)\u001b[0m\u001b[0;34m\u001b[0m\u001b[0;34m\u001b[0m\u001b[0m\n\u001b[0;32m---> 52\u001b[0;31m \u001b[0mchess_board\u001b[0m\u001b[0;34m.\u001b[0m\u001b[0madd_red\u001b[0m\u001b[0;34m(\u001b[0m\u001b[0;36m10\u001b[0m\u001b[0;34m,\u001b[0m\u001b[0;36m8\u001b[0m\u001b[0;34m)\u001b[0m\u001b[0;34m\u001b[0m\u001b[0;34m\u001b[0m\u001b[0m\n\u001b[0m\u001b[1;32m     53\u001b[0m \u001b[0mchess_board\u001b[0m\u001b[0;34m.\u001b[0m\u001b[0mrender\u001b[0m\u001b[0;34m(\u001b[0m\u001b[0;34m)\u001b[0m\u001b[0;34m\u001b[0m\u001b[0;34m\u001b[0m\u001b[0m\n\u001b[1;32m     54\u001b[0m \u001b[0;34m\u001b[0m\u001b[0m\n",
      "\u001b[0;32m<ipython-input-55-947fb329320f>\u001b[0m in \u001b[0;36madd_red\u001b[0;34m(self, row, colum)\u001b[0m\n\u001b[1;32m     47\u001b[0m         \u001b[0mself\u001b[0m\u001b[0;34m.\u001b[0m\u001b[0mred_x\u001b[0m\u001b[0;34m=\u001b[0m\u001b[0mrow\u001b[0m\u001b[0;34m\u001b[0m\u001b[0;34m\u001b[0m\u001b[0m\n\u001b[1;32m     48\u001b[0m         \u001b[0mself\u001b[0m\u001b[0;34m.\u001b[0m\u001b[0mred_y\u001b[0m\u001b[0;34m=\u001b[0m\u001b[0mcolum\u001b[0m\u001b[0;34m\u001b[0m\u001b[0;34m\u001b[0m\u001b[0m\n\u001b[0;32m---> 49\u001b[0;31m         \u001b[0mself\u001b[0m\u001b[0;34m.\u001b[0m\u001b[0mgrid\u001b[0m\u001b[0;34m[\u001b[0m\u001b[0mcolum\u001b[0m\u001b[0;34m,\u001b[0m\u001b[0mrow\u001b[0m\u001b[0;34m]\u001b[0m\u001b[0;34m.\u001b[0m\u001b[0mChessBoard\u001b[0m\u001b[0;34m.\u001b[0m\u001b[0mred_color\u001b[0m\u001b[0;34m\u001b[0m\u001b[0;34m\u001b[0m\u001b[0m\n\u001b[0m\u001b[1;32m     50\u001b[0m \u001b[0;34m\u001b[0m\u001b[0m\n\u001b[1;32m     51\u001b[0m \u001b[0mchess_board\u001b[0m \u001b[0;34m=\u001b[0m \u001b[0mChessBoard\u001b[0m\u001b[0;34m(\u001b[0m\u001b[0;34m)\u001b[0m\u001b[0;34m\u001b[0m\u001b[0;34m\u001b[0m\u001b[0m\n",
      "\u001b[0;31mIndexError\u001b[0m: index 8 is out of bounds for axis 0 with size 8"
     ]
    }
   ],
   "source": [
    "class ChessBoard():\n",
    "    white_color=[1,1,1]\n",
    "    blue_color=[0,1,1]\n",
    "    red_color=[1,0.2,0]\n",
    "#   black_color=[0,0,0] allready exist\n",
    "\n",
    "    def __init__(self):\n",
    "        #make an array for the board\n",
    "        self.grid=np.zeros([8,8,3])\n",
    "        #add wihte\n",
    "        self.add_white()\n",
    "        #difine color queens\n",
    "        self.red_x=0\n",
    "        self.red_y=0\n",
    "        self.blue_x=0\n",
    "        self.blue_y=0\n",
    "        \n",
    "    def add_white(self):\n",
    "        \n",
    "        \"\"\"\n",
    "        this method will add white color\n",
    "        to make a chess board\n",
    "        \n",
    "        \"\"\"\n",
    "        for i in range(8):\n",
    "            for j in range (8):\n",
    "                # make the color one black one white\n",
    "                   if(i%2 == 0 and j%2==0) or (j%2==1 and i%2==1):\n",
    "                        self.grid[i,j]=ChessBoard.white_color\n",
    "           \n",
    "        \n",
    "    def render(self):\n",
    "        \"\"\"\n",
    "        this method \n",
    "        drow the chess board\n",
    "        \"\"\"\n",
    "        plt.imshow(self.grid)\n",
    "        \n",
    "        \n",
    "    def add_red(self,row,colum):\n",
    "        \n",
    "        \"\"\"\n",
    "        this method that accepts a row and column as input \n",
    "        which colors corresponding cell.\n",
    "        \n",
    "        \"\"\"\n",
    "        self.red_x=row\n",
    "        self.red_y=colum\n",
    "        self.grid[colum,row].ChessBoard.red_color\n",
    "                    \n",
    "chess_board = ChessBoard()\n",
    "chess_board.add_red(7,1)\n",
    "chess_board.render()\n",
    "        \n",
    "        \n",
    "        \n",
    "        "
   ]
  },
  {
   "cell_type": "code",
   "execution_count": null,
   "id": "2fba1732-cb06-4e56-b4c2-d9000ce54147",
   "metadata": {},
   "outputs": [],
   "source": []
  }
 ],
 "metadata": {
  "kernelspec": {
   "display_name": "Python 3",
   "language": "python",
   "name": "python3"
  },
  "language_info": {
   "codemirror_mode": {
    "name": "ipython",
    "version": 3
   },
   "file_extension": ".py",
   "mimetype": "text/x-python",
   "name": "python",
   "nbconvert_exporter": "python",
   "pygments_lexer": "ipython3",
   "version": "3.9.4"
  }
 },
 "nbformat": 4,
 "nbformat_minor": 5
}
