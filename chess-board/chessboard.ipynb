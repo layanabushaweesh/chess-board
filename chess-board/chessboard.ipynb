{
 "cells": [
  {
   "cell_type": "code",
   "execution_count": 1,
   "id": "a9bda5e1-8695-4bd8-8c48-bfbc7f2d2c78",
   "metadata": {},
   "outputs": [],
   "source": [
    "\n",
    "import matplotlib.pyplot as plt\n"
   ]
  },
  {
   "cell_type": "code",
   "execution_count": 2,
   "id": "9409cbc7-418f-440f-a28b-4ef5aa71dff6",
   "metadata": {},
   "outputs": [],
   "source": [
    "\n",
    "import numpy as np\n"
   ]
  },
  {
   "cell_type": "code",
   "execution_count": 95,
   "id": "cbdb7729-feaa-4a83-bdc2-ac917490ab10",
   "metadata": {},
   "outputs": [
    {
     "name": "stdout",
     "output_type": "stream",
     "text": [
      "all test pass\n"
     ]
    },
    {
     "data": {
      "image/png": "[encoded data removed]",
      "text/plain": [
       "<Figure size 432x288 with 1 Axes>"
      ]
     },
     "metadata": {
      "needs_background": "light"
     },
     "output_type": "display_data"
    }
   ],
   "source": [
    "class ChessBoard():\n",
    "#     white_color=[1,1,1] \n",
    "    blue_color=[0,1,1]\n",
    "    red_color=[1,0.2,0]\n",
    "    black_color=[0,0,0] \n",
    "\n",
    "    def __init__(self):\n",
    "        #make an array for the board\n",
    "        #use np to make arrys of ones 8 row , 8colum\n",
    "        self.grid=np.ones([8,8,3])\n",
    "        #add black color\n",
    "        self.add_black()\n",
    "        #initil define color queens (red&blue)\n",
    "        self.red_x=0\n",
    "        self.red_y=0\n",
    "        \n",
    "        self.blue_x=0\n",
    "        self.blue_y=0\n",
    "        \n",
    "    def add_black(self):\n",
    "        \n",
    "        \"\"\"\n",
    "        this method will add black color\n",
    "        to make a chess board\n",
    "        \n",
    "        \"\"\"\n",
    "        for x in range(8):\n",
    "            for y in range (8):\n",
    "                # make the color one black one white\n",
    "                   if   (y%2==1 and x%2==1) or (x%2 == 0 and y%2==0)  :\n",
    "                        self.grid[x,y]=ChessBoard.black_color\n",
    "           \n",
    "        \n",
    "    def render(self):\n",
    "        \"\"\"\n",
    "        this method \n",
    "        drow the board\n",
    "        \"\"\"\n",
    "        plt.imshow(self.grid)\n",
    "        \n",
    "        \n",
    "    def add_red(self,row,colum):\n",
    "        \n",
    "        \"\"\"\n",
    "        this method that accepts a row and colum as\n",
    "        input and change color to red \n",
    "        will put red queen\n",
    "        \n",
    "        \"\"\"\n",
    "        self.red_x=row\n",
    "        self.red_y=colum\n",
    "        self.grid[row,colum]=ChessBoard.red_color\n",
    "        \n",
    "        \n",
    "    def add_blue(self,row,colum):\n",
    "        \n",
    "        \"\"\"\n",
    "        this method that accepts a row and colum as\n",
    "        input and change color to blue \n",
    "        will put blue queen\n",
    "        \n",
    "        \"\"\"\n",
    "        self.blue_x=row\n",
    "        self.blue_y=colum\n",
    "        self.grid[row,colum]=ChessBoard.blue_color\n",
    "        \n",
    "        \n",
    "\n",
    "    \n",
    "        \n",
    "    def is_under_attack(self):\n",
    "        \"\"\"\n",
    "        this method will\n",
    "        Check if anyone of queen\n",
    "        is under attack\n",
    "        \"\"\"\n",
    "        \n",
    "        #check horizontally\n",
    "        if self.red_x == self.blue_x:\n",
    "            return True\n",
    "        \n",
    "        #check vertically\n",
    "        elif  self.blue_y == self.red_y :\n",
    "            return True\n",
    "        \n",
    "        #check diagonally\n",
    "        \n",
    "        elif abs(self.red_x - self.blue_x) == abs(self.red_y - self.blue_y):\n",
    "            return True\n",
    "        \n",
    "        else:\n",
    "            return False\n",
    "                    \n",
    "chess_board = ChessBoard()\n",
    "# chess_board.add_blue(0,0)\n",
    "# chess_board.add_red(7,7)\n",
    "# chess_board.is_under_attack()\n",
    "# chess_board.add_red(0,7) \n",
    "# chess_board.add_blue(7,7)\n",
    "# chess_board.render()\n",
    "# chess_board.is_under_attack()\n",
    "# chess_board.add_red(6,1)\n",
    "# chess_board.add_blue(1,1)\n",
    "\n",
    "chess_board.add_red(1,4)\n",
    "chess_board.add_blue(3,0)\n",
    "chess_board.render()\n",
    "chess_board.is_under_attack()\n",
    "\n",
    "\n",
    "        # tests\n",
    "    #1queens on same row should be “under attack”\n",
    "chess_board.add_red(7,4)\n",
    "chess_board.add_blue(7,0)\n",
    "assert chess_board.is_under_attack() == True\n",
    "\n",
    "   #2queens on same column should be “under attack”\n",
    "chess_board.add_red(2,4)\n",
    "chess_board.add_blue(3,4)\n",
    "assert chess_board.is_under_attack() == True\n",
    "\n",
    " #queens is not under attack\n",
    "chess_board.add_red(1,4)\n",
    "chess_board.add_blue(3,0)\n",
    "assert chess_board.is_under_attack() == False\n",
    "\n",
    " #queens on same diagonal should be “under attack”\n",
    "chess_board.add_red(0,0)\n",
    "chess_board.add_blue(7,7)\n",
    "assert chess_board.is_under_attack() == True\n",
    "print('all test pass')\n",
    "        "
   ]
  },
  {
   "cell_type": "code",
   "execution_count": 89,
   "id": "2fba1732-cb06-4e56-b4c2-d9000ce54147",
   "metadata": {},
   "outputs": [
    {
     "data": {
      "text/plain": [
       "True"
      ]
     },
     "execution_count": 89,
     "metadata": {},
     "output_type": "execute_result"
    },
    {
     "data": {
      "image/png": "[encoded data removed]",
      "text/plain": [
       "<Figure size 432x288 with 1 Axes>"
      ]
     },
     "metadata": {
      "needs_background": "light"
     },
     "output_type": "display_data"
    }
   ],
   "source": [
    "chess_board.add_red(5,7)\n",
    "chess_board.add_blue(0,7)\n",
    "chess_board.render()\n",
    "chess_board.is_under_attack()"
   ]
  },
  {
   "cell_type": "code",
   "execution_count": null,
   "id": "2628259e-21f5-42ea-8b36-736a6ea67fca",
   "metadata": {},
   "outputs": [],
   "source": []
  }
 ],
 "metadata": {
  "kernelspec": {
   "display_name": "Python 3",
   "language": "python",
   "name": "python3"
  },
  "language_info": {
   "codemirror_mode": {
    "name": "ipython",
    "version": 3
   },
   "file_extension": ".py",
   "mimetype": "text/x-python",
   "name": "python",
   "nbconvert_exporter": "python",
   "pygments_lexer": "ipython3",
   "version": "3.9.4"
  }
 },
 "nbformat": 4,
 "nbformat_minor": 5
}
