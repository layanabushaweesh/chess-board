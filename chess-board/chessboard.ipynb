{
 "cells": [
  {
   "cell_type": "code",
   "execution_count": 144,
   "id": "a9bda5e1-8695-4bd8-8c48-bfbc7f2d2c78",
   "metadata": {},
   "outputs": [],
   "source": [
    "\n",
    "import matplotlib.pyplot as plt\n"
   ]
  },
  {
   "cell_type": "code",
   "execution_count": 145,
   "id": "9409cbc7-418f-440f-a28b-4ef5aa71dff6",
   "metadata": {},
   "outputs": [],
   "source": [
    "\n",
    "import numpy as np\n"
   ]
  },
  {
   "cell_type": "code",
   "execution_count": 146,
   "id": "cbdb7729-feaa-4a83-bdc2-ac917490ab10",
   "metadata": {},
   "outputs": [
    {
     "name": "stdout",
     "output_type": "stream",
     "text": [
      "all test pass\n"
     ]
    },
    {
     "data": {
      "image/png": "[encoded data removed]",
      "text/plain": [
       "<Figure size 432x288 with 1 Axes>"
      ]
     },
     "metadata": {
      "needs_background": "light"
     },
     "output_type": "display_data"
    }
   ],
   "source": [
    "class ChessBoard():\n",
    "    white_color=[1,1,1]\n",
    "    blue_color=[0,1,1]\n",
    "    red_color=[1,0.2,0]\n",
    "#   black_color=[0,0,0] allready exist\n",
    "\n",
    "    def __init__(self):\n",
    "        #make an array for the board\n",
    "        self.grid=np.zeros([8,8,3])\n",
    "        #add wihte\n",
    "        self.add_white()\n",
    "        #initil define color queens\n",
    "        self.red_x=0\n",
    "        self.red_y=0\n",
    "        self.blue_x=0\n",
    "        self.blue_y=0\n",
    "        \n",
    "    def add_white(self):\n",
    "        \n",
    "        \"\"\"\n",
    "        this method will add white color\n",
    "        to make a chess board\n",
    "        \n",
    "        \"\"\"\n",
    "        for i in range(8):\n",
    "            for j in range (8):\n",
    "                # make the color one black one white\n",
    "                   if(i%2 == 0 and j%2==0) or (j%2==1 and i%2==1):\n",
    "                        self.grid[i,j]=ChessBoard.white_color\n",
    "           \n",
    "        \n",
    "    def render(self):\n",
    "        \"\"\"\n",
    "        this method \n",
    "        drow the board\n",
    "        \"\"\"\n",
    "        plt.imshow(self.grid)\n",
    "        \n",
    "        \n",
    "    def add_red(self,row,colum):\n",
    "        \n",
    "        \"\"\"\n",
    "        this method that accepts a row and column as\n",
    "        input and change color to red \n",
    "        will put red queen\n",
    "        \n",
    "        \"\"\"\n",
    "        self.red_x=row\n",
    "        self.red_y=colum\n",
    "        self.grid[row,colum]=ChessBoard.red_color\n",
    "        \n",
    "        \n",
    "    def add_blue(self,row,colum):\n",
    "        \n",
    "        \"\"\"\n",
    "        this method that accepts a row and column as\n",
    "        input and change color to blue \n",
    "        will put blue queen\n",
    "        \n",
    "        \"\"\"\n",
    "        self.red_x=row\n",
    "        self.red_y=colum\n",
    "        self.grid[row,colum]=ChessBoard.blue_color\n",
    "        \n",
    "    def is_under_attack(self):\n",
    "        \n",
    "        \"\"\"\n",
    "        this method that return boolean if red\n",
    "        is under attack by a blue piece\n",
    "        horizontally, vertically or diagonally\n",
    "        \n",
    "        \"\"\"\n",
    "        #cheack horizantaly\n",
    "        if self.red_x == self.blue_x:\n",
    "            return True\n",
    "        \n",
    "        #cheack vertically\n",
    "        elif self.red_y ==  self.blue_y:\n",
    "            return True\n",
    "            \n",
    "        #cheack diagonally\n",
    "        elif abs(self.red_x - self.blue_x) == abs(self.red_y - self.blue_y):\n",
    "        \n",
    "           return True\n",
    "        else:\n",
    "            return False\n",
    "        \n",
    "                    \n",
    "chess_board = ChessBoard()\n",
    "chess_board.add_blue(0,0)\n",
    "\n",
    "chess_board.add_red(7,7)\n",
    "chess_board.render()\n",
    "        # tests\n",
    "    #1queens on same row should be “under attack”\n",
    "chess_board.add_red(7,4)\n",
    "chess_board.add_blue(7,0)\n",
    "assert chess_board.is_under_attack() == True\n",
    "\n",
    "   #2queens on same column should be “under attack”\n",
    "chess_board.add_red(2,4)\n",
    "chess_board.add_blue(4,4)\n",
    "assert chess_board.is_under_attack() == True\n",
    "\n",
    " #queens on same diagonal should be “under attack”\n",
    "chess_board.add_red(1,4)\n",
    "chess_board.add_blue(3,0)\n",
    "assert chess_board.is_under_attack() == True\n",
    "print('all test pass')\n",
    "        "
   ]
  },
  {
   "cell_type": "code",
   "execution_count": null,
   "id": "2fba1732-cb06-4e56-b4c2-d9000ce54147",
   "metadata": {},
   "outputs": [],
   "source": []
  }
 ],
 "metadata": {
  "kernelspec": {
   "display_name": "Python 3",
   "language": "python",
   "name": "python3"
  },
  "language_info": {
   "codemirror_mode": {
    "name": "ipython",
    "version": 3
   },
   "file_extension": ".py",
   "mimetype": "text/x-python",
   "name": "python",
   "nbconvert_exporter": "python",
   "pygments_lexer": "ipython3",
   "version": "3.9.4"
  }
 },
 "nbformat": 4,
 "nbformat_minor": 5
}
